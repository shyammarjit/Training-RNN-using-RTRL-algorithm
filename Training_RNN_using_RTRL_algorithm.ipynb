{
  "nbformat": 4,
  "nbformat_minor": 0,
  "metadata": {
    "colab": {
      "name": "Training RNN using RTRL algorithm",
      "provenance": [],
      "collapsed_sections": [],
      "include_colab_link": true
    },
    "kernelspec": {
      "name": "python3",
      "display_name": "Python 3"
    }
  },
  "cells": [
    {
      "cell_type": "markdown",
      "metadata": {
        "id": "view-in-github",
        "colab_type": "text"
      },
      "source": [
        "<a href=\"https://colab.research.google.com/github/shyammarjit/raining-RNN-using-RTRL-algorithm/blob/main/Training_RNN_using_RTRL_algorithm.ipynb\" target=\"_parent\"><img src=\"https://colab.research.google.com/assets/colab-badge.svg\" alt=\"Open In Colab\"/></a>"
      ]
    },
    {
      "cell_type": "markdown",
      "metadata": {
        "id": "SMZ-0EU2iwX9"
      },
      "source": [
        "###Training RNN using RTRL algorithm\n",
        "- This work is done by SHYAM MARJIT a CSE student of IIITGuwahati.\n",
        "- sujaykumarmarjit@gmail.com\n",
        "- 8927860176\n",
        "- This is written in Python Programming language.\n",
        "- © 2020 SHYAM MARJIT.  All rights reserved."
      ]
    },
    {
      "cell_type": "code",
      "metadata": {
        "id": "1v5uaG1y8Xej"
      },
      "source": [
        "import numpy as np"
      ],
      "execution_count": null,
      "outputs": []
    },
    {
      "cell_type": "markdown",
      "metadata": {
        "id": "uPmjYRjS_IIW"
      },
      "source": [
        ""
      ]
    },
    {
      "cell_type": "markdown",
      "metadata": {
        "id": "wbnRJwqF7fdG"
      },
      "source": [
        "### Generate Data\n",
        "Create a function that randomly gives either +1 or -1 as input"
      ]
    },
    {
      "cell_type": "code",
      "metadata": {
        "id": "vsaoR-wSmPJO"
      },
      "source": [
        "def create_u():\n",
        "  \"\"\"\n",
        "  Inputs:\n",
        "    None\n",
        "  Outputs:\n",
        "    u: +1 or -1 randomly generated\n",
        "  \"\"\"\n",
        "  ### BEGIN SOLUTION\n",
        "  x = np.random.rand(1,)\n",
        "  if (x<=0.5):\n",
        "    u = 1\n",
        "  else:\n",
        "    u = -1\n",
        "  ### END SOLUTION\n",
        "  return u"
      ],
      "execution_count": null,
      "outputs": []
    },
    {
      "cell_type": "markdown",
      "metadata": {
        "id": "Os7QHguQ_5PN"
      },
      "source": [
        "#### Desired data\n",
        "$y(t+1) = w_0y(t) + w_1y(t-1) + w_2u(t) $"
      ]
    },
    {
      "cell_type": "code",
      "metadata": {
        "id": "IbW2xPZ08Kqw"
      },
      "source": [
        "\"\"\"Test for create_u\"\"\"\n",
        "u = create_u()\n",
        "assert u==1 or u== -1\n"
      ],
      "execution_count": null,
      "outputs": []
    },
    {
      "cell_type": "code",
      "metadata": {
        "id": "JD2mDTRd_Xoo"
      },
      "source": [
        "def generate_data(timesteps, w0, w1, w2):\n",
        "  \"\"\"\n",
        "  Inputs:\n",
        "    timesteps: int, number of timesteps of data\n",
        "  Outputs:\n",
        "    u: numpy array with each element +1 or -1 of shape (timesteps, )\n",
        "    yd: numpy array with each element computed using above equation of shape (timesteps, )\n",
        "  \"\"\"\n",
        "  ### BEGIN SOLUTION\n",
        "  u = np.array([create_u() for i in range(timesteps) ])\n",
        "  yd = np.zeros((timesteps+1,))\n",
        "  for j in range(1, timesteps):\n",
        "    yd[j+1] = w0*yd[j] + w1*yd[j-1] + w2*u[j]\n",
        "  ### END SOLUTION\n",
        "  return u, yd\n"
      ],
      "execution_count": null,
      "outputs": []
    },
    {
      "cell_type": "code",
      "metadata": {
        "id": "gKLXgraGBL7y"
      },
      "source": [
        "### Generate u, yd\n",
        "u, yd = generate_data(10000, 1.1, -0.3, 0.5)"
      ],
      "execution_count": null,
      "outputs": []
    },
    {
      "cell_type": "markdown",
      "metadata": {
        "id": "34oI6R4w9w8n"
      },
      "source": [
        "### Write expression for $y(t+1)$"
      ]
    },
    {
      "cell_type": "code",
      "metadata": {
        "id": "FSyKKg5cnEks"
      },
      "source": [
        "def get_y_tplus1(w, yt, ytminus1, u):\n",
        "  \"\"\"\n",
        "  Inputs:\n",
        "    w: numpy array of weights of shape (3, )\n",
        "    yt: float, y value at time t\n",
        "    ytminus1: float, y value at time t - 1\n",
        "    u: input at time t\n",
        "  Outputs:\n",
        "    y_tplus1: float, y at t+1\n",
        "  \"\"\"\n",
        "  ### BEGIN SOLUTION\n",
        "  y_tplus1 = w[0]*yt + w[1]*ytminus1 + w[2]*u \n",
        "  ### END SOLUTION\n",
        "  return y_tplus1"
      ],
      "execution_count": null,
      "outputs": []
    },
    {
      "cell_type": "markdown",
      "metadata": {
        "id": "2oDbB5_vC0EK"
      },
      "source": [
        "### Forward propagation of weights\n",
        "$$\n",
        "\\frac{\\partial y(t+1)}{\\partial w_0} = w_0\\frac{\\partial y(t)}{\\partial w_0} + y(t) + w_1\\frac{\\partial y(t-1)}{\\partial w_0}\n",
        "$$\n",
        "<br><br>\n",
        "$$\n",
        "\\frac{\\partial y(t+1)}{\\partial w_1} = w_0\\frac{\\partial y(t)}{\\partial w_1} + y(t-1) + w_1\\frac{\\partial y(t-1)}{\\partial w_1} \\\\\n",
        "$$\n",
        "<br><br>\n",
        "$$\n",
        "\\frac{\\partial y(t+1)}{\\partial w_2} = w_0\\frac{\\partial y(t)}{\\partial w_2} +  w_1\\frac{\\partial y(t-1)}{\\partial w_2} + u(t) \n",
        "$$\n",
        "<br><br>\n",
        "pwj1 is a matrix $\\frac{\\partial y(t)}{\\partial w} =\n",
        "[\\frac{\\partial y(t)}{\\partial w_0}, \\frac{\\partial y(t)}{\\partial w_1}, \\frac{\\partial y(t)}{\\partial w_2}]$\n",
        "<br><br>\n",
        "pwj0 is a matrix $\\frac{\\partial y(t-1)}{\\partial w} =\n",
        "[\\frac{\\partial y(t-1)}{\\partial w_0}, \\frac{\\partial y(t-1)}{\\partial w_1}, \\frac{\\partial y(t-1)}{\\partial w_2}]$\n",
        "<br><br>\n",
        "pwj2 is a matrix $\\frac{\\partial y(t+1)}{\\partial w} =\n",
        "[\\frac{\\partial y(t+1)}{\\partial w_0}, \\frac{\\partial y(t+1)}{\\partial w_1}, \\frac{\\partial y(t+1)}{\\partial w_2}]$"
      ]
    },
    {
      "cell_type": "code",
      "metadata": {
        "id": "zbFBIlifn5lX"
      },
      "source": [
        "def forward_prop_weights(w, yt, ytminus1, u, pwj1, pwj0):\n",
        "  \"\"\"\n",
        "  Inputs:\n",
        "    w: numpy array of weights [w0, w1, w2]\n",
        "    yt: float, y value at time t\n",
        "    ytminus1: float, y value at time t - 1\n",
        "    u: input at time t\n",
        "    pwj1: numpy array of shape (3, ) as described above\n",
        "    pwj0: numpy array of shape (3, ) as described above\n",
        "  Outputs:\n",
        "    pwj2: numpy array of shape (3, ) as described above\n",
        "  \"\"\"  \n",
        "  ### BEGIN SOLUTION\n",
        "  a = w[0]*pwj1[0] + yt + w[1]*pwj0[0]\n",
        "  \n",
        "  b = w[0]*pwj1[1] + ytminus1 + w[1]*pwj0[1]\n",
        "  \n",
        "  c = w[0]*pwj1[2] + u + w[1]*pwj0[2]\n",
        "  pwj2 = [a, b, c]\n",
        "  ### END SOLUTION\n",
        "  return pwj2"
      ],
      "execution_count": null,
      "outputs": []
    },
    {
      "cell_type": "markdown",
      "metadata": {
        "id": "FH0wlubaHPd9"
      },
      "source": [
        "### Weight update - Gradient descent\n",
        "$E = \\frac{1}{2}(y_d - y)^2$ <br>\n",
        "$w_{new} = w_{old} - \\eta\\frac{\\partial E}{\\partial w} = w_{old} - \\eta(y_d - y)\\cdot pwj2$ "
      ]
    },
    {
      "cell_type": "code",
      "metadata": {
        "id": "V-yaQxkup6Nw"
      },
      "source": [
        "def update_w(w, eta, yd, y, pwj2):\n",
        "  \"\"\"\n",
        "  Inputs:\n",
        "    w: numpy array of weights [w0, w1, w2]\n",
        "    eta: float, learning rate\n",
        "    yd: scalar(float), desired value of y at time t+1\n",
        "    y: scalar(float), predicted value of y at time t+1\n",
        "    pwj2: numpy array of shape(3,) obtained from forward_prop_weights\n",
        "  Outputs:\n",
        "    w_updated: numpy array of shape(3, ), updated weights\n",
        "  \"\"\"\n",
        "  ### BEGIN SOLUTION\n",
        "  for k in range(3):\n",
        "    w[k] = w[k] + eta*(yd - y)*pwj2[k]\n",
        "    \n",
        "  w_updated = w\n",
        "  ### END SOLUTION\n",
        "  return w_updated"
      ],
      "execution_count": null,
      "outputs": []
    },
    {
      "cell_type": "markdown",
      "metadata": {
        "id": "AyZmxCP3KQlR"
      },
      "source": [
        "### Cost function (error)\n",
        "$E = \\frac{1}{2}(y_d - y)^2$ <br>\n"
      ]
    },
    {
      "cell_type": "code",
      "metadata": {
        "id": "xgd4SRv5qhvW"
      },
      "source": [
        "def err(yd, y):\n",
        "  \"\"\"\n",
        "  Inputs:\n",
        "    yd: scalar(float), desired value of y at time t+1\n",
        "    y: scalar(float), predicted value of y at time t+1\n",
        "  Outputs:\n",
        "    E: scalar(float), error as described above \n",
        "  \"\"\"\n",
        "  ### BEGIN SOLUTION\n",
        "  e = yd-y\n",
        "  E = 0.5*e*e\n",
        "  ### END SOLUTION\n",
        "  return E"
      ],
      "execution_count": null,
      "outputs": []
    },
    {
      "cell_type": "markdown",
      "metadata": {
        "id": "rxyXbrZKLIct"
      },
      "source": [
        "### Apply RTRL"
      ]
    },
    {
      "cell_type": "code",
      "metadata": {
        "id": "TFmXL1PZkXPp"
      },
      "source": [
        "def RTRL(yd, eta, timesteps):\n",
        "  \"\"\"\n",
        "  Inputs:\n",
        "    yd: numpy array of shape(timesteps,) \n",
        "    eta: scalar(float), learning rate\n",
        "    timesteps: int, number of timesteps\n",
        "  Outputs:\n",
        "    west: numpy array of shape(timesteps,3), keeps track of all the updated weights over time\n",
        "    error: numpy array of shape(timesteps,), keeps track of error (as obtained from function err()) over time\n",
        "  \"\"\"\n",
        "  ### BEGIN SOLUTION\n",
        "  y = np.zeros((timesteps+1,))\n",
        "  error = np.zeros((timesteps,))\n",
        "  \n",
        "#   w = 0.01*np.random.rand(3, 1)\n",
        "  w = np.zeros((3, 1))\n",
        "  pw = np.zeros((timesteps+1, 3))\n",
        "  west = np.zeros((timesteps, 3))\n",
        "  \n",
        "  \n",
        "  for j in range (1,iterations):\n",
        "      \n",
        "      y[j+1] = get_y_tplus1(w, y[j], y[j-1], u[j])\n",
        "      \n",
        "      pw[j+1, 0], pw[j+1, 1], pw[j+1, 2] = forward_prop_weights(w, y[j], y[j-1], u[j], pw[j,:], pw[j-1,:])\n",
        "      \n",
        "#       eta = update_eta(pw[j+1, :])\n",
        "      \n",
        "      w = update_w(w, eta, yd[j+1], y[j+1], pw[j+1, :])\n",
        "      \n",
        "      for k in range(3):\n",
        "        west[j,k] = w[k]\n",
        "\n",
        "      error[j] = err(yd[j+1], y[j+1])\n",
        "  ### END SOLUTION    \n",
        "  return west, error\n",
        "   "
      ],
      "execution_count": null,
      "outputs": []
    },
    {
      "cell_type": "code",
      "metadata": {
        "id": "SYwGeHqirLop"
      },
      "source": [
        "def plot_w(west):\n",
        "  plt.plot(west[:,0])\n",
        "  plt.show()\n",
        "  plt.plot(west[:,1])\n",
        "  plt.show()\n",
        "  plt.plot(west[:,2])\n",
        "  plt.show()"
      ],
      "execution_count": null,
      "outputs": []
    },
    {
      "cell_type": "code",
      "metadata": {
        "id": "9dbtDLierWhh"
      },
      "source": [
        "def plot_err(error):\n",
        "  plt.plot(error)\n",
        "  plt.show()"
      ],
      "execution_count": null,
      "outputs": []
    },
    {
      "cell_type": "code",
      "metadata": {
        "id": "SPHeNdBrcR4s",
        "outputId": "54c3e62a-7d0d-4bc3-87f5-3732050e0ae7",
        "colab": {
          "base_uri": "https://localhost:8080/",
          "height": 1010
        }
      },
      "source": [
        "import numpy as np\n",
        "import matplotlib.pyplot as plt\n",
        "\n",
        "eta = 0.005\n",
        "iterations = 10000\n",
        "\n",
        "west, error = RTRL(yd, eta, iterations)\n",
        "\n",
        "plot_w(west)\n",
        "plot_err(error)"
      ],
      "execution_count": null,
      "outputs": [
        {
          "output_type": "display_data",
          "data": {
            "image/png": "[encoded data removed]",
            "text/plain": [
              "<Figure size 432x288 with 1 Axes>"
            ]
          },
          "metadata": {
            "tags": [],
            "needs_background": "light"
          }
        },
        {
          "output_type": "display_data",
          "data": {
            "image/png": "[encoded data removed]",
            "text/plain": [
              "<Figure size 432x288 with 1 Axes>"
            ]
          },
          "metadata": {
            "tags": [],
            "needs_background": "light"
          }
        },
        {
          "output_type": "display_data",
          "data": {
            "image/png": "[encoded data removed]",
            "text/plain": [
              "<Figure size 432x288 with 1 Axes>"
            ]
          },
          "metadata": {
            "tags": [],
            "needs_background": "light"
          }
        },
        {
          "output_type": "display_data",
          "data": {
            "image/png": "[encoded data removed]",
            "text/plain": [
              "<Figure size 432x288 with 1 Axes>"
            ]
          },
          "metadata": {
            "tags": [],
            "needs_background": "light"
          }
        }
      ]
    },
    {
      "cell_type": "code",
      "metadata": {
        "id": "3g8bU3PNcjR7"
      },
      "source": [
        ""
      ],
      "execution_count": null,
      "outputs": []
    }
  ]
}